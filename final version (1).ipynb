{
 "cells": [
  {
   "cell_type": "code",
   "execution_count": 1,
   "id": "e9c7809a",
   "metadata": {
    "executionInfo": {
     "elapsed": 3199,
     "status": "ok",
     "timestamp": 1689777426111,
     "user": {
      "displayName": "Yujian Cheng",
      "userId": "10364390466355316221"
     },
     "user_tz": -60
    },
    "id": "e9c7809a"
   },
   "outputs": [],
   "source": [
    "# Python ≥3.5 is required\n",
    "import sys\n",
    "assert sys.version_info >= (3, 5)\n",
    "\n",
    "# Scikit-Learn ≥0.20 is required\n",
    "import sklearn\n",
    "assert sklearn.__version__ >= \"0.20\"\n",
    "\n",
    "import matplotlib.pyplot as plt\n",
    "import numpy as np\n",
    "import pandas as pd\n",
    "import matplotlib.pyplot as plt\n",
    "import seaborn as sns\n",
    "import os\n",
    "\n",
    "from sklearn.base import BaseEstimator, TransformerMixin\n",
    "from sklearn.preprocessing import MinMaxScaler\n",
    "from sklearn.pipeline import Pipeline\n",
    "from sklearn.preprocessing import StandardScaler\n",
    "from sklearn.model_selection import train_test_split\n",
    "from sklearn.impute import SimpleImputer\n",
    "from sklearn.preprocessing import OneHotEncoder, OrdinalEncoder\n",
    "from sklearn.pipeline import FeatureUnion\n",
    "from sklearn.linear_model import LogisticRegression, SGDClassifier, RidgeClassifier, Perceptron\n",
    "from sklearn.compose import ColumnTransformer\n",
    "\n",
    "#Models\n",
    "from sklearn.linear_model import LogisticRegression\n",
    "from sklearn.tree import DecisionTreeClassifier\n",
    "from sklearn.ensemble import RandomForestClassifier\n",
    "from sklearn.svm import SVC\n",
    "from sklearn.pipeline import make_pipeline\n",
    "from sklearn.metrics import precision_score, recall_score, f1_score, roc_auc_score, accuracy_score, classification_report\n",
    "\n",
    "# Model evaluation und visualisation\n",
    "from sklearn.metrics import mean_squared_error\n",
    "from sklearn.model_selection import cross_val_score\n",
    "from sklearn.metrics import confusion_matrix\n",
    "from sklearn.metrics import roc_curve\n",
    "from sklearn.metrics import roc_auc_score\n",
    "from sklearn.metrics import precision_recall_curve\n",
    "\n",
    "# Hyperparameter optimisation\n",
    "from sklearn.model_selection import GridSearchCV\n",
    "\n",
    "\n",
    "df = pd.read_csv(\"hotel.csv\")"
   ]
  },
  {
   "cell_type": "code",
   "execution_count": 2,
   "id": "228da4d3",
   "metadata": {
    "colab": {
     "base_uri": "https://localhost:8080/"
    },
    "executionInfo": {
     "elapsed": 389,
     "status": "ok",
     "timestamp": 1689777428765,
     "user": {
      "displayName": "Yujian Cheng",
      "userId": "10364390466355316221"
     },
     "user_tz": -60
    },
    "id": "228da4d3",
    "outputId": "fdc08537-01f1-4e6e-f709-114db22c5644",
    "scrolled": false
   },
   "outputs": [
    {
     "name": "stdout",
     "output_type": "stream",
     "text": [
      "<class 'pandas.core.frame.DataFrame'>\n",
      "RangeIndex: 119390 entries, 0 to 119389\n",
      "Data columns (total 36 columns):\n",
      " #   Column                          Non-Null Count   Dtype  \n",
      "---  ------                          --------------   -----  \n",
      " 0   hotel                           119390 non-null  object \n",
      " 1   is_canceled                     119390 non-null  int64  \n",
      " 2   lead_time                       119390 non-null  int64  \n",
      " 3   arrival_date_year               119390 non-null  int64  \n",
      " 4   arrival_date_month              119390 non-null  object \n",
      " 5   arrival_date_week_number        119390 non-null  int64  \n",
      " 6   arrival_date_day_of_month       119390 non-null  int64  \n",
      " 7   stays_in_weekend_nights         119390 non-null  int64  \n",
      " 8   stays_in_week_nights            119390 non-null  int64  \n",
      " 9   adults                          119390 non-null  int64  \n",
      " 10  children                        119386 non-null  float64\n",
      " 11  babies                          119390 non-null  int64  \n",
      " 12  meal                            119390 non-null  object \n",
      " 13  country                         118902 non-null  object \n",
      " 14  market_segment                  119390 non-null  object \n",
      " 15  distribution_channel            119390 non-null  object \n",
      " 16  is_repeated_guest               119390 non-null  int64  \n",
      " 17  previous_cancellations          119390 non-null  int64  \n",
      " 18  previous_bookings_not_canceled  119390 non-null  int64  \n",
      " 19  reserved_room_type              119390 non-null  object \n",
      " 20  assigned_room_type              119390 non-null  object \n",
      " 21  booking_changes                 119390 non-null  int64  \n",
      " 22  deposit_type                    119390 non-null  object \n",
      " 23  agent                           103050 non-null  float64\n",
      " 24  company                         6797 non-null    float64\n",
      " 25  days_in_waiting_list            119390 non-null  int64  \n",
      " 26  customer_type                   119390 non-null  object \n",
      " 27  adr                             119390 non-null  float64\n",
      " 28  required_car_parking_spaces     119390 non-null  int64  \n",
      " 29  total_of_special_requests       119390 non-null  int64  \n",
      " 30  reservation_status              119390 non-null  object \n",
      " 31  reservation_status_date         119390 non-null  object \n",
      " 32  name                            119390 non-null  object \n",
      " 33  email                           119390 non-null  object \n",
      " 34  phone-number                    119390 non-null  object \n",
      " 35  credit_card                     119390 non-null  object \n",
      "dtypes: float64(4), int64(16), object(16)\n",
      "memory usage: 32.8+ MB\n"
     ]
    }
   ],
   "source": [
    "df.info()"
   ]
  },
  {
   "cell_type": "markdown",
   "id": "1ddaf4c0",
   "metadata": {
    "id": "1ddaf4c0"
   },
   "source": [
    "# 1 Data preprocessing"
   ]
  },
  {
   "cell_type": "markdown",
   "id": "5cd563be",
   "metadata": {
    "id": "5cd563be"
   },
   "source": [
    "## 1.1 Checking for Missing data"
   ]
  },
  {
   "cell_type": "code",
   "execution_count": 3,
   "id": "2a351e27",
   "metadata": {
    "colab": {
     "base_uri": "https://localhost:8080/"
    },
    "executionInfo": {
     "elapsed": 392,
     "status": "ok",
     "timestamp": 1689777445213,
     "user": {
      "displayName": "Yujian Cheng",
      "userId": "10364390466355316221"
     },
     "user_tz": -60
    },
    "id": "2a351e27",
    "outputId": "bade752b-4f5c-4446-b46a-211449acb579"
   },
   "outputs": [
    {
     "data": {
      "text/plain": [
       "children         4\n",
       "country        488\n",
       "agent        16340\n",
       "company     112593\n",
       "dtype: int64"
      ]
     },
     "execution_count": 3,
     "metadata": {},
     "output_type": "execute_result"
    }
   ],
   "source": [
    "missing = df.isnull().sum(axis=0)\n",
    "missing[missing!=0]"
   ]
  },
  {
   "cell_type": "code",
   "execution_count": 4,
   "id": "552d2e48",
   "metadata": {
    "executionInfo": {
     "elapsed": 1,
     "status": "ok",
     "timestamp": 1689777445464,
     "user": {
      "displayName": "Yujian Cheng",
      "userId": "10364390466355316221"
     },
     "user_tz": -60
    },
    "id": "552d2e48"
   },
   "outputs": [],
   "source": [
    "df.drop(['company'], axis=1, inplace=True)\n",
    "df.children.fillna(df.children.mode()[0],inplace=True)\n",
    "df.country.fillna(df.country.mode()[0],inplace=True)\n",
    "df['agent'] = df['agent'].notna().astype(int)"
   ]
  },
  {
   "cell_type": "code",
   "execution_count": 5,
   "id": "d545b2c5",
   "metadata": {
    "executionInfo": {
     "elapsed": 2,
     "status": "ok",
     "timestamp": 1689777446528,
     "user": {
      "displayName": "Yujian Cheng",
      "userId": "10364390466355316221"
     },
     "user_tz": -60
    },
    "id": "d545b2c5"
   },
   "outputs": [],
   "source": [
    "# checking for data type\n",
    "df['children']=df['children'].astype('int64')"
   ]
  },
  {
   "cell_type": "code",
   "execution_count": 6,
   "id": "0d6458e5",
   "metadata": {
    "colab": {
     "base_uri": "https://localhost:8080/"
    },
    "executionInfo": {
     "elapsed": 2,
     "status": "ok",
     "timestamp": 1689777447338,
     "user": {
      "displayName": "Yujian Cheng",
      "userId": "10364390466355316221"
     },
     "user_tz": -60
    },
    "id": "0d6458e5",
    "outputId": "8a5f5983-34d7-4793-9404-3833f62a169e"
   },
   "outputs": [
    {
     "name": "stdout",
     "output_type": "stream",
     "text": [
      "<class 'pandas.core.frame.DataFrame'>\n",
      "RangeIndex: 119390 entries, 0 to 119389\n",
      "Data columns (total 35 columns):\n",
      " #   Column                          Non-Null Count   Dtype  \n",
      "---  ------                          --------------   -----  \n",
      " 0   hotel                           119390 non-null  object \n",
      " 1   is_canceled                     119390 non-null  int64  \n",
      " 2   lead_time                       119390 non-null  int64  \n",
      " 3   arrival_date_year               119390 non-null  int64  \n",
      " 4   arrival_date_month              119390 non-null  object \n",
      " 5   arrival_date_week_number        119390 non-null  int64  \n",
      " 6   arrival_date_day_of_month       119390 non-null  int64  \n",
      " 7   stays_in_weekend_nights         119390 non-null  int64  \n",
      " 8   stays_in_week_nights            119390 non-null  int64  \n",
      " 9   adults                          119390 non-null  int64  \n",
      " 10  children                        119390 non-null  int64  \n",
      " 11  babies                          119390 non-null  int64  \n",
      " 12  meal                            119390 non-null  object \n",
      " 13  country                         119390 non-null  object \n",
      " 14  market_segment                  119390 non-null  object \n",
      " 15  distribution_channel            119390 non-null  object \n",
      " 16  is_repeated_guest               119390 non-null  int64  \n",
      " 17  previous_cancellations          119390 non-null  int64  \n",
      " 18  previous_bookings_not_canceled  119390 non-null  int64  \n",
      " 19  reserved_room_type              119390 non-null  object \n",
      " 20  assigned_room_type              119390 non-null  object \n",
      " 21  booking_changes                 119390 non-null  int64  \n",
      " 22  deposit_type                    119390 non-null  object \n",
      " 23  agent                           119390 non-null  int32  \n",
      " 24  days_in_waiting_list            119390 non-null  int64  \n",
      " 25  customer_type                   119390 non-null  object \n",
      " 26  adr                             119390 non-null  float64\n",
      " 27  required_car_parking_spaces     119390 non-null  int64  \n",
      " 28  total_of_special_requests       119390 non-null  int64  \n",
      " 29  reservation_status              119390 non-null  object \n",
      " 30  reservation_status_date         119390 non-null  object \n",
      " 31  name                            119390 non-null  object \n",
      " 32  email                           119390 non-null  object \n",
      " 33  phone-number                    119390 non-null  object \n",
      " 34  credit_card                     119390 non-null  object \n",
      "dtypes: float64(1), int32(1), int64(17), object(16)\n",
      "memory usage: 31.4+ MB\n"
     ]
    }
   ],
   "source": [
    "df.info()"
   ]
  },
  {
   "cell_type": "markdown",
   "id": "3cbd68d1",
   "metadata": {
    "id": "3cbd68d1"
   },
   "source": [
    "## 1.2 Checking for Duplicate Data"
   ]
  },
  {
   "cell_type": "code",
   "execution_count": 7,
   "id": "6b281ad1",
   "metadata": {
    "colab": {
     "base_uri": "https://localhost:8080/"
    },
    "executionInfo": {
     "elapsed": 259,
     "status": "ok",
     "timestamp": 1689777448904,
     "user": {
      "displayName": "Yujian Cheng",
      "userId": "10364390466355316221"
     },
     "user_tz": -60
    },
    "id": "6b281ad1",
    "outputId": "3adf1a1d-6f8a-4bb4-98cd-3329f22f4696"
   },
   "outputs": [
    {
     "data": {
      "text/plain": [
       "0"
      ]
     },
     "execution_count": 7,
     "metadata": {},
     "output_type": "execute_result"
    }
   ],
   "source": [
    "df.duplicated().sum()"
   ]
  },
  {
   "cell_type": "markdown",
   "id": "e34271e8",
   "metadata": {
    "id": "e34271e8"
   },
   "source": [
    "## 1.3 Checking for Abnormal Data"
   ]
  },
  {
   "cell_type": "code",
   "execution_count": 8,
   "id": "cad26520",
   "metadata": {
    "executionInfo": {
     "elapsed": 446,
     "status": "ok",
     "timestamp": 1689777450758,
     "user": {
      "displayName": "Yujian Cheng",
      "userId": "10364390466355316221"
     },
     "user_tz": -60
    },
    "id": "cad26520"
   },
   "outputs": [],
   "source": [
    "zero_guest=df[df[['adults', 'children', 'babies']].sum(axis=1) == 0]\n",
    "df.drop(zero_guest.index, inplace=True)\n",
    "\n",
    "zero_days = df[df[['stays_in_weekend_nights','stays_in_week_nights']].sum(axis=1) == 0]\n",
    "df.drop(zero_days.index, inplace=True)\n",
    "\n",
    "df.meal.replace(\"Undefined\", \"SC\", inplace=True)"
   ]
  },
  {
   "cell_type": "code",
   "execution_count": 9,
   "id": "f92fcb6d",
   "metadata": {
    "colab": {
     "base_uri": "https://localhost:8080/"
    },
    "executionInfo": {
     "elapsed": 274,
     "status": "ok",
     "timestamp": 1689777451958,
     "user": {
      "displayName": "Yujian Cheng",
      "userId": "10364390466355316221"
     },
     "user_tz": -60
    },
    "id": "f92fcb6d",
    "outputId": "b0e0ecad-f2af-4cf1-baae-f8273f2500d1",
    "scrolled": false
   },
   "outputs": [
    {
     "name": "stdout",
     "output_type": "stream",
     "text": [
      "<class 'pandas.core.frame.DataFrame'>\n",
      "Int64Index: 118565 entries, 2 to 119389\n",
      "Data columns (total 35 columns):\n",
      " #   Column                          Non-Null Count   Dtype  \n",
      "---  ------                          --------------   -----  \n",
      " 0   hotel                           118565 non-null  object \n",
      " 1   is_canceled                     118565 non-null  int64  \n",
      " 2   lead_time                       118565 non-null  int64  \n",
      " 3   arrival_date_year               118565 non-null  int64  \n",
      " 4   arrival_date_month              118565 non-null  object \n",
      " 5   arrival_date_week_number        118565 non-null  int64  \n",
      " 6   arrival_date_day_of_month       118565 non-null  int64  \n",
      " 7   stays_in_weekend_nights         118565 non-null  int64  \n",
      " 8   stays_in_week_nights            118565 non-null  int64  \n",
      " 9   adults                          118565 non-null  int64  \n",
      " 10  children                        118565 non-null  int64  \n",
      " 11  babies                          118565 non-null  int64  \n",
      " 12  meal                            118565 non-null  object \n",
      " 13  country                         118565 non-null  object \n",
      " 14  market_segment                  118565 non-null  object \n",
      " 15  distribution_channel            118565 non-null  object \n",
      " 16  is_repeated_guest               118565 non-null  int64  \n",
      " 17  previous_cancellations          118565 non-null  int64  \n",
      " 18  previous_bookings_not_canceled  118565 non-null  int64  \n",
      " 19  reserved_room_type              118565 non-null  object \n",
      " 20  assigned_room_type              118565 non-null  object \n",
      " 21  booking_changes                 118565 non-null  int64  \n",
      " 22  deposit_type                    118565 non-null  object \n",
      " 23  agent                           118565 non-null  int32  \n",
      " 24  days_in_waiting_list            118565 non-null  int64  \n",
      " 25  customer_type                   118565 non-null  object \n",
      " 26  adr                             118565 non-null  float64\n",
      " 27  required_car_parking_spaces     118565 non-null  int64  \n",
      " 28  total_of_special_requests       118565 non-null  int64  \n",
      " 29  reservation_status              118565 non-null  object \n",
      " 30  reservation_status_date         118565 non-null  object \n",
      " 31  name                            118565 non-null  object \n",
      " 32  email                           118565 non-null  object \n",
      " 33  phone-number                    118565 non-null  object \n",
      " 34  credit_card                     118565 non-null  object \n",
      "dtypes: float64(1), int32(1), int64(17), object(16)\n",
      "memory usage: 32.1+ MB\n"
     ]
    }
   ],
   "source": [
    "df.info()"
   ]
  },
  {
   "cell_type": "markdown",
   "id": "517c2bd8",
   "metadata": {
    "id": "517c2bd8"
   },
   "source": [
    "## 1.4 Adding columns"
   ]
  },
  {
   "cell_type": "markdown",
   "id": "123852ff",
   "metadata": {},
   "source": [
    "This project incorporated two additional columns for a more precise cost representation per booking. 'Total_family_size' quantifies the total count of adults, children, and babies per booking. 'Total_stay' aggregates stays during weekdays and weekends. We also introduced 'roomtype_change', a binary feature marking changes in room type during a stay, with 0 denoting no change and 1 indicating a change."
   ]
  },
  {
   "cell_type": "code",
   "execution_count": 10,
   "id": "052f0489",
   "metadata": {
    "colab": {
     "base_uri": "https://localhost:8080/"
    },
    "executionInfo": {
     "elapsed": 338,
     "status": "ok",
     "timestamp": 1689777454268,
     "user": {
      "displayName": "Yujian Cheng",
      "userId": "10364390466355316221"
     },
     "user_tz": -60
    },
    "id": "052f0489",
    "outputId": "614b38c3-cbc3-49ba-fe00-3b1ac7b0f22a"
   },
   "outputs": [
    {
     "name": "stdout",
     "output_type": "stream",
     "text": [
      "<class 'pandas.core.frame.DataFrame'>\n",
      "Int64Index: 118565 entries, 2 to 119389\n",
      "Data columns (total 39 columns):\n",
      " #   Column                          Non-Null Count   Dtype  \n",
      "---  ------                          --------------   -----  \n",
      " 0   hotel                           118565 non-null  object \n",
      " 1   is_canceled                     118565 non-null  int64  \n",
      " 2   lead_time                       118565 non-null  int64  \n",
      " 3   arrival_date_year               118565 non-null  int64  \n",
      " 4   arrival_date_month              118565 non-null  object \n",
      " 5   arrival_date_week_number        118565 non-null  int64  \n",
      " 6   arrival_date_day_of_month       118565 non-null  int64  \n",
      " 7   stays_in_weekend_nights         118565 non-null  int64  \n",
      " 8   stays_in_week_nights            118565 non-null  int64  \n",
      " 9   adults                          118565 non-null  int64  \n",
      " 10  children                        118565 non-null  int64  \n",
      " 11  babies                          118565 non-null  int64  \n",
      " 12  meal                            118565 non-null  object \n",
      " 13  country                         118565 non-null  object \n",
      " 14  market_segment                  118565 non-null  object \n",
      " 15  distribution_channel            118565 non-null  object \n",
      " 16  is_repeated_guest               118565 non-null  int64  \n",
      " 17  previous_cancellations          118565 non-null  int64  \n",
      " 18  previous_bookings_not_canceled  118565 non-null  int64  \n",
      " 19  reserved_room_type              118565 non-null  object \n",
      " 20  assigned_room_type              118565 non-null  object \n",
      " 21  booking_changes                 118565 non-null  int64  \n",
      " 22  deposit_type                    118565 non-null  object \n",
      " 23  agent                           118565 non-null  int32  \n",
      " 24  days_in_waiting_list            118565 non-null  int64  \n",
      " 25  customer_type                   118565 non-null  object \n",
      " 26  adr                             118565 non-null  float64\n",
      " 27  required_car_parking_spaces     118565 non-null  int64  \n",
      " 28  total_of_special_requests       118565 non-null  int64  \n",
      " 29  reservation_status              118565 non-null  object \n",
      " 30  reservation_status_date         118565 non-null  object \n",
      " 31  name                            118565 non-null  object \n",
      " 32  email                           118565 non-null  object \n",
      " 33  phone-number                    118565 non-null  object \n",
      " 34  credit_card                     118565 non-null  object \n",
      " 35  total_family_size               118565 non-null  int64  \n",
      " 36  total_stay                      118565 non-null  int64  \n",
      " 37  roomtype_change                 118565 non-null  int32  \n",
      " 38  adr_per_person                  118565 non-null  float64\n",
      "dtypes: float64(2), int32(2), int64(19), object(16)\n",
      "memory usage: 35.3+ MB\n"
     ]
    }
   ],
   "source": [
    "#add total family size column and total stay column\n",
    "df['total_family_size']=df['adults']+df['children']+df['babies']\n",
    "df['total_stay']=df['stays_in_weekend_nights']+df['stays_in_week_nights']\n",
    "df['roomtype_change'] = np.where(df['reserved_room_type'] != df['assigned_room_type'], 1, 0)\n",
    "df['adr_per_person'] = df['adr'] / (df['adults'] + df['children'])\n",
    "df.info()"
   ]
  },
  {
   "cell_type": "markdown",
   "id": "550d3162",
   "metadata": {
    "id": "550d3162"
   },
   "source": [
    "# 2 Exploratory Analysis"
   ]
  },
  {
   "cell_type": "markdown",
   "id": "60d726e1",
   "metadata": {},
   "source": [
    "Our project is divided into two primary phases: exploratory data analysis and predictive modelling. Initially, we undertake an exploration of the data to identify patterns, relationships, and trends that shed light on the dynamics of booking cancellations."
   ]
  },
  {
   "cell_type": "markdown",
   "id": "5871d0db",
   "metadata": {},
   "source": [
    "### 2.1 Correlation Analysis"
   ]
  },
  {
   "cell_type": "code",
   "execution_count": 11,
   "id": "2bbbac2e",
   "metadata": {
    "colab": {
     "base_uri": "https://localhost:8080/",
     "height": 1000
    },
    "executionInfo": {
     "elapsed": 6407,
     "status": "ok",
     "timestamp": 1689777462169,
     "user": {
      "displayName": "Yujian Cheng",
      "userId": "10364390466355316221"
     },
     "user_tz": -60
    },
    "id": "2bbbac2e",
    "outputId": "717c7748-9010-445f-df34-0d5ad3ad48c5"
   },
   "outputs": [
    {
     "data": {
      "image/png": "[encoded data removed]",
      "text/plain": [
       "<Figure size 576x720 with 2 Axes>"
      ]
     },
     "metadata": {
      "needs_background": "light"
     },
     "output_type": "display_data"
    }
   ],
   "source": [
    "fig = plt.figure(figsize=(8,10))\n",
    "ax = sns.heatmap(df.corr()[['is_canceled']].sort_values('is_canceled', ascending=False), annot = True, annot_kws = {\"size\":12}, cmap='Blues')\n",
    "ax.set_title('Correlation Coefficient Between Each Numeric Feature and Cancellation Status', fontsize=18)\n",
    "ax.set_xlabel('Features', fontsize = 16)\n",
    "ax.set_ylabel('Features', fontsize = 16)\n",
    "ax.tick_params(axis = \"both\", labelsize = 12);\n",
    "y_min, y_max = ax.get_ylim()\n",
    "ax.set_ylim(top=y_max+1);"
   ]
  },
  {
   "cell_type": "markdown",
   "id": "e8455ca8",
   "metadata": {
    "id": "e8455ca8"
   },
   "source": [
    "### 2.2 Leadtime Analysis"
   ]
  },
  {
   "cell_type": "code",
   "execution_count": 18,
   "id": "4a63277d",
   "metadata": {
    "colab": {
     "base_uri": "https://localhost:8080/",
     "height": 559
    },
    "executionInfo": {
     "elapsed": 746,
     "status": "ok",
     "timestamp": 1689777482997,
     "user": {
      "displayName": "Yujian Cheng",
      "userId": "10364390466355316221"
     },
     "user_tz": -60
    },
    "id": "4a63277d",
    "outputId": "4e7aa3fb-31ac-4a39-8868-d385cb598008"
   },
   "outputs": [
    {
     "data": {
      "image/png": "[encoded data removed]",
      "text/plain": [
       "<Figure size 720x432 with 2 Axes>"
      ]
     },
     "metadata": {
      "needs_background": "light"
     },
     "output_type": "display_data"
    }
   ],
   "source": [
    "fig, ax1 = plt.subplots(figsize=(10,6))\n",
    "\n",
    "# Define bins\n",
    "bins = [0, 30, 60, 90, 120, 150, 180, 210, df['lead_time'].max()+1]\n",
    "labels = ['0-30', '31-60', '61-90', '91-120', '121-150', '151-180', '181-210', '211+']\n",
    "\n",
    "# Apply bins to lead_time\n",
    "df['lead_time_bin'] = pd.cut(df['lead_time'], bins=bins, labels=labels, right=False)\n",
    "\n",
    "# Plot total reservations for each lead_time group\n",
    "sns.countplot(data=df, x='lead_time_bin', ax=ax1, color='skyblue', label='Total Reservations')\n",
    "ax1.set_xlabel('Lead Time (days)', fontsize=12)\n",
    "ax1.set_ylabel('Total Reservations', fontsize=12)\n",
    "ax1.tick_params(axis='y')\n",
    "\n",
    "# Create a second y-axis for cancellation rates\n",
    "ax2 = ax1.twinx()\n",
    "\n",
    "# Compute and plot cancellation rate for each lead_time group\n",
    "cancellation_rate = df[df['is_canceled'] == 1].groupby('lead_time_bin')['is_canceled'].count() / df.groupby('lead_time_bin')['is_canceled'].count()\n",
    "sns.pointplot(x=cancellation_rate.index, y=cancellation_rate.values, ax=ax2, color='darkred', label='Cancellation Rate')\n",
    "ax2.set_ylabel('Cancellation Rate', fontsize=12)\n",
    "\n",
    "# Show the legend\n",
    "fig.legend(loc=\"upper right\")\n",
    "plt.title('Total Reservations and Cancellation Rate by Lead Time', fontsize=14)\n",
    "\n",
    "plt.show()"
   ]
  },
  {
   "cell_type": "markdown",
   "id": "453433f8",
   "metadata": {},
   "source": [
    "### 2.3 Customer Analysis"
   ]
  },
  {
   "cell_type": "code",
   "execution_count": 13,
   "id": "2a359d0f",
   "metadata": {
    "colab": {
     "base_uri": "https://localhost:8080/",
     "height": 502
    },
    "executionInfo": {
     "elapsed": 21,
     "status": "ok",
     "timestamp": 1689777482258,
     "user": {
      "displayName": "Yujian Cheng",
      "userId": "10364390466355316221"
     },
     "user_tz": -60
    },
    "id": "2a359d0f",
    "outputId": "c1b825b4-fd00-4acc-cee2-f29eaa045a34"
   },
   "outputs": [
    {
     "data": {
      "text/plain": [
       "([<matplotlib.axis.XTick at 0x2878e661250>,\n",
       "  <matplotlib.axis.XTick at 0x2878e661220>],\n",
       " [Text(0, 0, 'New Guest'), Text(1, 0, 'Repeated Guest')])"
      ]
     },
     "execution_count": 13,
     "metadata": {},
     "output_type": "execute_result"
    },
    {
     "data": {
      "image/png": "[encoded data removed]",
      "text/plain": [
       "<Figure size 432x288 with 1 Axes>"
      ]
     },
     "metadata": {
      "needs_background": "light"
     },
     "output_type": "display_data"
    }
   ],
   "source": [
    "tick_label = ['New Guest', 'Repeated Guest']\n",
    "sns.countplot(x='is_repeated_guest', hue='is_canceled', data=df)\n",
    "plt.xticks([0, 1], tick_label)"
   ]
  },
  {
   "cell_type": "code",
   "execution_count": 14,
   "id": "d70758fa",
   "metadata": {
    "colab": {
     "base_uri": "https://localhost:8080/",
     "height": 472
    },
    "executionInfo": {
     "elapsed": 19,
     "status": "ok",
     "timestamp": 1689777482258,
     "user": {
      "displayName": "Yujian Cheng",
      "userId": "10364390466355316221"
     },
     "user_tz": -60
    },
    "id": "d70758fa",
    "outputId": "4e0fa35b-0b06-4406-b54b-792efb957236",
    "scrolled": false
   },
   "outputs": [
    {
     "data": {
      "text/plain": [
       "Text(0.5, 0, 'Previous Un-Cancellations')"
      ]
     },
     "execution_count": 14,
     "metadata": {},
     "output_type": "execute_result"
    },
    {
     "data": {
      "image/png": "[encoded data removed]",
      "text/plain": [
       "<Figure size 432x288 with 2 Axes>"
      ]
     },
     "metadata": {
      "needs_background": "light"
     },
     "output_type": "display_data"
    }
   ],
   "source": [
    "plt.subplot(121)\n",
    "plt.plot(df.groupby('previous_cancellations')['is_canceled'].mean(),\n",
    "         'ro')\n",
    "plt.xlabel('Previous Cancellations')\n",
    "\n",
    "plt.subplot(122)\n",
    "plt.plot(df.groupby('previous_bookings_not_canceled')['is_canceled'].mean(),\n",
    "         'bo')\n",
    "plt.ylim(0, 1)\n",
    "plt.xlabel('Previous Un-Cancellations')\n"
   ]
  },
  {
   "cell_type": "markdown",
   "id": "4090a31c",
   "metadata": {},
   "source": [
    "### 2.4 Seasonality Analysis"
   ]
  },
  {
   "cell_type": "code",
   "execution_count": 15,
   "id": "c305f8ac",
   "metadata": {
    "colab": {
     "base_uri": "https://localhost:8080/",
     "height": 819
    },
    "executionInfo": {
     "elapsed": 18,
     "status": "error",
     "timestamp": 1689777482259,
     "user": {
      "displayName": "Yujian Cheng",
      "userId": "10364390466355316221"
     },
     "user_tz": -60
    },
    "id": "c305f8ac",
    "outputId": "89e972c0-4a92-4178-96dc-86f8c0f8dd3a"
   },
   "outputs": [
    {
     "data": {
      "image/png": "[encoded data removed]",
      "text/plain": [
       "<Figure size 432x288 with 2 Axes>"
      ]
     },
     "metadata": {
      "needs_background": "light"
     },
     "output_type": "display_data"
    },
    {
     "data": {
      "image/png": "[encoded data removed]",
      "text/plain": [
       "<Figure size 432x288 with 2 Axes>"
      ]
     },
     "metadata": {
      "needs_background": "light"
     },
     "output_type": "display_data"
    }
   ],
   "source": [
    "ordered_months = [\n",
    "    \"January\", \"February\", \"March\", \"April\", \"May\", \"June\", \"July\", \"August\",\n",
    "    \"September\", \"October\", \"November\", \"December\"\n",
    "]\n",
    "\n",
    "for hotel in ['City Hotel', 'Resort Hotel']:\n",
    "    fig, ax1 = plt.subplots()\n",
    "    ax2 = ax1.twinx()\n",
    "    df_hotel = df[df.hotel == hotel]\n",
    "    monthly = df_hotel.groupby('arrival_date_month').size()\n",
    "\n",
    "    ax1.bar(np.arange(12), monthly[ordered_months])\n",
    "    ax2.plot(np.arange(12), df_hotel.groupby('arrival_date_month')['is_canceled'].mean()[ordered_months].values, 'ro-')\n",
    "\n",
    "    ax1.set_xlabel('Month')\n",
    "    ax1.set_ylabel('Bookings')\n",
    "    ax1.set_xticks(np.arange(12))\n",
    "    ax1.set_xticklabels(ordered_months, rotation=45)\n",
    "    ax1.set_title(f'Monthly Bookings and Cancellation Rate for {hotel}')\n",
    "\n",
    "    ax2.set_ylabel('Cancellation rate')"
   ]
  },
  {
   "cell_type": "markdown",
   "id": "88b77c2f",
   "metadata": {},
   "source": [
    "### 2.5 Distribution Channel Analysis"
   ]
  },
  {
   "cell_type": "code",
   "execution_count": 17,
   "id": "79962be3",
   "metadata": {
    "executionInfo": {
     "elapsed": 8,
     "status": "aborted",
     "timestamp": 1689777482259,
     "user": {
      "displayName": "Yujian Cheng",
      "userId": "10364390466355316221"
     },
     "user_tz": -60
    },
    "id": "79962be3"
   },
   "outputs": [
    {
     "data": {
      "text/plain": [
       "Text(0, 0.5, 'Rate')"
      ]
     },
     "execution_count": 17,
     "metadata": {},
     "output_type": "execute_result"
    },
    {
     "data": {
      "image/png": "[encoded data removed]",
      "text/plain": [
       "<Figure size 432x288 with 2 Axes>"
      ]
     },
     "metadata": {
      "needs_background": "light"
     },
     "output_type": "display_data"
    }
   ],
   "source": [
    "fig,ax1 = plt.subplots()\n",
    "ax2 = ax1.twinx()\n",
    "sns.countplot(\n",
    "    x=df['distribution_channel'],\n",
    "    order =df.groupby('distribution_channel')['is_canceled'].mean().index,ax=ax1)\n",
    "\n",
    "ax1.set_xlabel('Distribution Channel')\n",
    "ax2.plot(df.groupby('distribution_channel')['is_canceled'].mean(), 'ro-')\n",
    "ax2.set_ylabel('Rate')"
   ]
  },
  {
   "cell_type": "markdown",
   "id": "e760b061",
   "metadata": {
    "id": "e760b061"
   },
   "source": [
    "# 3 Model Stage"
   ]
  },
  {
   "cell_type": "markdown",
   "id": "7cef15b8",
   "metadata": {
    "id": "7cef15b8"
   },
   "source": [
    "### 3.1 Test-Train split"
   ]
  },
  {
   "cell_type": "code",
   "execution_count": 20,
   "id": "ace489b9",
   "metadata": {
    "executionInfo": {
     "elapsed": 423,
     "status": "ok",
     "timestamp": 1689779538943,
     "user": {
      "displayName": "Yujian Cheng",
      "userId": "10364390466355316221"
     },
     "user_tz": -60
    },
    "id": "ace489b9"
   },
   "outputs": [],
   "source": [
    "# Split the data\n",
    "y = df['is_canceled'].copy()\n",
    "X = df.drop(['is_canceled'], axis=1)\n",
    "\n",
    "X_train, X_test, y_train, y_test = train_test_split(X, y, stratify=y, test_size=0.3, random_state=42)\n"
   ]
  },
  {
   "cell_type": "code",
   "execution_count": 21,
   "id": "63f02512",
   "metadata": {
    "colab": {
     "base_uri": "https://localhost:8080/"
    },
    "executionInfo": {
     "elapsed": 3,
     "status": "ok",
     "timestamp": 1689779540115,
     "user": {
      "displayName": "Yujian Cheng",
      "userId": "10364390466355316221"
     },
     "user_tz": -60
    },
    "id": "63f02512",
    "outputId": "a0dd1ddb-5771-434b-d97f-254ba9e47e59"
   },
   "outputs": [
    {
     "name": "stdout",
     "output_type": "stream",
     "text": [
      "(118565, 39)\n",
      "(118565,)\n"
     ]
    }
   ],
   "source": [
    "print(X.shape)\n",
    "print(y.shape)"
   ]
  },
  {
   "cell_type": "markdown",
   "id": "795102fe",
   "metadata": {
    "id": "795102fe"
   },
   "source": [
    "### 3.2 Pre-process data"
   ]
  },
  {
   "cell_type": "code",
   "execution_count": 22,
   "id": "33319a28",
   "metadata": {
    "executionInfo": {
     "elapsed": 379,
     "status": "ok",
     "timestamp": 1689779541848,
     "user": {
      "displayName": "Yujian Cheng",
      "userId": "10364390466355316221"
     },
     "user_tz": -60
    },
    "id": "33319a28"
   },
   "outputs": [],
   "source": [
    "# Numerical columns\n",
    "num_cols = ['lead_time', 'arrival_date_week_number', 'arrival_date_day_of_month',\n",
    "            'is_repeated_guest', 'previous_cancellations', 'previous_bookings_not_canceled',\n",
    "            'required_car_parking_spaces', 'total_of_special_requests',\n",
    "            'adr_per_person', 'total_family_size', 'total_stay']\n",
    "\n",
    "# Categorical columns for one-hot encoding, no feature is suitable for ordinal encoding\n",
    "cat_cols = ['hotel', 'arrival_date_month', 'market_segment', 'distribution_channel',\n",
    "            'deposit_type', 'customer_type', 'roomtype_change']\n",
    "\n",
    "target = ['is_canceled']\n",
    "\n",
    "train = df[num_cols + cat_cols + target].copy()"
   ]
  },
  {
   "cell_type": "code",
   "execution_count": 23,
   "id": "b3dba354",
   "metadata": {
    "executionInfo": {
     "elapsed": 1,
     "status": "ok",
     "timestamp": 1689779543092,
     "user": {
      "displayName": "Yujian Cheng",
      "userId": "10364390466355316221"
     },
     "user_tz": -60
    },
    "id": "b3dba354"
   },
   "outputs": [],
   "source": [
    "# Define the pipelines\n",
    "num_pipeline = Pipeline(steps=[('std_scaler', StandardScaler())])\n",
    "cat_pipeline = Pipeline(steps=[('one_hot_encoder', OneHotEncoder(drop='first'))])\n",
    "\n",
    "# Combine pipelines in a ColumnTransformer\n",
    "preprocessor = ColumnTransformer(\n",
    "    transformers=[\n",
    "        ('num', num_pipeline, num_cols),\n",
    "        ('cat', cat_pipeline, cat_cols)\n",
    "    ])\n",
    "\n",
    "# Full pipeline\n",
    "full_pipeline = Pipeline(steps=[ ('preprocessor', preprocessor)])"
   ]
  },
  {
   "cell_type": "code",
   "execution_count": 24,
   "id": "1c1c4c2c",
   "metadata": {
    "executionInfo": {
     "elapsed": 2,
     "status": "ok",
     "timestamp": 1689779543748,
     "user": {
      "displayName": "Yujian Cheng",
      "userId": "10364390466355316221"
     },
     "user_tz": -60
    },
    "id": "1c1c4c2c"
   },
   "outputs": [],
   "source": [
    "# Fit and transform the training data\n",
    "X_train_prepared = full_pipeline.fit_transform(X_train)\n"
   ]
  },
  {
   "cell_type": "code",
   "execution_count": 25,
   "id": "d4d8f579",
   "metadata": {
    "colab": {
     "base_uri": "https://localhost:8080/"
    },
    "executionInfo": {
     "elapsed": 2,
     "status": "ok",
     "timestamp": 1689779544085,
     "user": {
      "displayName": "Yujian Cheng",
      "userId": "10364390466355316221"
     },
     "user_tz": -60
    },
    "id": "d4d8f579",
    "outputId": "3a263f63-0988-452b-f91d-e3bb7f76bc92"
   },
   "outputs": [
    {
     "name": "stdout",
     "output_type": "stream",
     "text": [
      "(82995, 40)\n",
      "(82995,)\n"
     ]
    }
   ],
   "source": [
    "print(X_train_prepared.shape)\n",
    "print(y_train.shape)"
   ]
  },
  {
   "cell_type": "markdown",
   "id": "a0512bc1",
   "metadata": {
    "id": "a0512bc1"
   },
   "source": [
    "# 4 Evaluate models"
   ]
  },
  {
   "cell_type": "markdown",
   "id": "d88bcce1",
   "metadata": {
    "id": "d88bcce1"
   },
   "source": [
    "### 4.1 Logistic Regression"
   ]
  },
  {
   "cell_type": "code",
   "execution_count": 26,
   "id": "96c68d1d",
   "metadata": {
    "executionInfo": {
     "elapsed": 400,
     "status": "ok",
     "timestamp": 1689779546942,
     "user": {
      "displayName": "Yujian Cheng",
      "userId": "10364390466355316221"
     },
     "user_tz": -60
    },
    "id": "96c68d1d"
   },
   "outputs": [],
   "source": [
    "lr=LogisticRegression(max_iter=1000, random_state=42)\n",
    "lr.fit(X_train_prepared,y_train)\n",
    "\n",
    "# Predict on the training data\n",
    "train_preds = lr.predict(X_train_prepared)"
   ]
  },
  {
   "cell_type": "code",
   "execution_count": 27,
   "id": "187b7224",
   "metadata": {
    "colab": {
     "base_uri": "https://localhost:8080/"
    },
    "executionInfo": {
     "elapsed": 4,
     "status": "ok",
     "timestamp": 1689779547692,
     "user": {
      "displayName": "Yujian Cheng",
      "userId": "10364390466355316221"
     },
     "user_tz": -60
    },
    "id": "187b7224",
    "outputId": "8c162d93-d30e-4e0c-c8b1-30dc04116b18",
    "scrolled": true
   },
   "outputs": [
    {
     "name": "stdout",
     "output_type": "stream",
     "text": [
      "lead_time: 0.3952\n",
      "arrival_date_week_number: -0.7543\n",
      "arrival_date_day_of_month: 0.0768\n",
      "is_repeated_guest: -0.0880\n",
      "previous_cancellations: 2.2817\n",
      "previous_bookings_not_canceled: -0.7457\n",
      "required_car_parking_spaces: -6.6085\n",
      "total_of_special_requests: -0.5714\n",
      "adr_per_person: 0.1325\n",
      "total_family_size: 0.2017\n",
      "total_stay: 0.0721\n"
     ]
    }
   ],
   "source": [
    "coefs=lr.coef_[0]                      # coeficient from the classifier\n",
    "for (a,c) in zip(num_cols,coefs):\n",
    "    # just the numeric; categorical needs to unpack the one hot encoding\n",
    "    print('%8s: %5.4f' % (a,c) )"
   ]
  },
  {
   "cell_type": "code",
   "execution_count": 28,
   "id": "60279b04",
   "metadata": {
    "colab": {
     "base_uri": "https://localhost:8080/"
    },
    "executionInfo": {
     "elapsed": 3481,
     "status": "ok",
     "timestamp": 1689779551730,
     "user": {
      "displayName": "Yujian Cheng",
      "userId": "10364390466355316221"
     },
     "user_tz": -60
    },
    "id": "60279b04",
    "outputId": "2ca63858-f38e-4b7e-b409-41c56a77eff4"
   },
   "outputs": [
    {
     "name": "stdout",
     "output_type": "stream",
     "text": [
      "Mean:0.8125\n",
      "Standard deviation:0.0048\n"
     ]
    }
   ],
   "source": [
    "# Perform cross-validation\n",
    "scores = cross_val_score(lr, X_train_prepared, y_train,\n",
    "                         scoring=\"accuracy\", cv=10)\n",
    "\n",
    "# Function to display scores\n",
    "def display_scores(scores):\n",
    "    print('Mean:%5.4f'%scores.mean())\n",
    "    print('Standard deviation:%5.4f'%scores.std())\n",
    "\n",
    "# Display cross-validation scores\n",
    "display_scores(scores)\n"
   ]
  },
  {
   "cell_type": "markdown",
   "id": "a2e8ef04",
   "metadata": {
    "id": "a2e8ef04"
   },
   "source": [
    "### 4.2 Decision Tree"
   ]
  },
  {
   "cell_type": "code",
   "execution_count": 29,
   "id": "69fbdc95",
   "metadata": {
    "executionInfo": {
     "elapsed": 2,
     "status": "ok",
     "timestamp": 1689779551731,
     "user": {
      "displayName": "Yujian Cheng",
      "userId": "10364390466355316221"
     },
     "user_tz": -60
    },
    "id": "69fbdc95"
   },
   "outputs": [],
   "source": [
    "tree = DecisionTreeClassifier(random_state=42)\n",
    "tree.fit(X_train_prepared, y_train)\n",
    "\n",
    "train_preds = tree.predict(X_train_prepared)"
   ]
  },
  {
   "cell_type": "code",
   "execution_count": 30,
   "id": "750ff23b",
   "metadata": {
    "colab": {
     "base_uri": "https://localhost:8080/"
    },
    "executionInfo": {
     "elapsed": 894,
     "status": "ok",
     "timestamp": 1689779552623,
     "user": {
      "displayName": "Yujian Cheng",
      "userId": "10364390466355316221"
     },
     "user_tz": -60
    },
    "id": "750ff23b",
    "outputId": "ba9fd842-ad2c-40e6-d09c-e8057b238fbb"
   },
   "outputs": [
    {
     "name": "stdout",
     "output_type": "stream",
     "text": [
      "Mean:0.8176\n",
      "Standard deviation:0.0046\n"
     ]
    }
   ],
   "source": [
    "# Perform cross-validation and calculate RMSE scores\n",
    "scores = cross_val_score(tree, X_train_prepared, y_train,\n",
    "                         scoring=\"accuracy\", cv=10)\n",
    "\n",
    "def display_scores(scores):\n",
    "    print('Mean:%5.4f'%scores.mean())\n",
    "    print('Standard deviation:%5.4f'%scores.std())\n",
    "\n",
    "\n",
    "display_scores(scores)"
   ]
  },
  {
   "cell_type": "markdown",
   "id": "651ad1d0",
   "metadata": {
    "id": "651ad1d0"
   },
   "source": [
    "### 4.3 Random Forest"
   ]
  },
  {
   "cell_type": "code",
   "execution_count": 31,
   "id": "d199c509",
   "metadata": {
    "executionInfo": {
     "elapsed": 1394,
     "status": "ok",
     "timestamp": 1689779554015,
     "user": {
      "displayName": "Yujian Cheng",
      "userId": "10364390466355316221"
     },
     "user_tz": -60
    },
    "id": "d199c509"
   },
   "outputs": [],
   "source": [
    "forest = RandomForestClassifier(random_state=42)\n",
    "forest.fit(X_train_prepared, y_train)\n",
    "\n",
    "train_preds = forest.predict(X_train_prepared)\n"
   ]
  },
  {
   "cell_type": "code",
   "execution_count": 32,
   "id": "a7799444",
   "metadata": {
    "colab": {
     "base_uri": "https://localhost:8080/"
    },
    "executionInfo": {
     "elapsed": 12395,
     "status": "ok",
     "timestamp": 1689779566409,
     "user": {
      "displayName": "Yujian Cheng",
      "userId": "10364390466355316221"
     },
     "user_tz": -60
    },
    "id": "a7799444",
    "outputId": "1016b6fb-d669-4349-e158-2c0e7637bd2d"
   },
   "outputs": [
    {
     "name": "stdout",
     "output_type": "stream",
     "text": [
      "Mean:0.8619\n",
      "Standard deviation:0.0048\n"
     ]
    }
   ],
   "source": [
    "# Perform cross-validation\n",
    "scores = cross_val_score(forest, X_train_prepared, y_train,\n",
    "                         scoring=\"accuracy\", cv=10)\n",
    "\n",
    "def display_scores(scores):\n",
    "    print('Mean:%5.4f'%scores.mean())\n",
    "    print('Standard deviation:%5.4f'%scores.std())\n",
    "\n",
    "\n",
    "display_scores(scores)"
   ]
  },
  {
   "cell_type": "code",
   "execution_count": 33,
   "id": "56177c8d",
   "metadata": {
    "colab": {
     "base_uri": "https://localhost:8080/"
    },
    "executionInfo": {
     "elapsed": 2,
     "status": "ok",
     "timestamp": 1689779566409,
     "user": {
      "displayName": "Yujian Cheng",
      "userId": "10364390466355316221"
     },
     "user_tz": -60
    },
    "id": "56177c8d",
    "outputId": "6ca4cd10-bdea-4502-892c-2ba5054b65ee",
    "scrolled": true
   },
   "outputs": [
    {
     "name": "stdout",
     "output_type": "stream",
     "text": [
      "                          features  importance\n",
      "0                        lead_time        0.18\n",
      "8                   adr_per_person        0.13\n",
      "2        arrival_date_day_of_month        0.09\n",
      "7        total_of_special_requests        0.06\n",
      "10                      total_stay        0.06\n",
      "1         arrival_date_week_number        0.06\n",
      "4           previous_cancellations        0.05\n",
      "9                total_family_size        0.02\n",
      "6      required_car_parking_spaces        0.02\n",
      "11                           hotel        0.01\n",
      "5   previous_bookings_not_canceled        0.00\n",
      "3                is_repeated_guest        0.00\n",
      "12              arrival_date_month        0.00\n",
      "13                  market_segment        0.00\n",
      "14            distribution_channel        0.00\n",
      "15                    deposit_type        0.00\n",
      "16                   customer_type        0.00\n",
      "17                 roomtype_change        0.00\n"
     ]
    }
   ],
   "source": [
    "feature_list=list(train.columns.drop(['is_canceled']))\n",
    "importances = list(forest.feature_importances_)\n",
    "feature_importances = [(feature, round(importance, 2)) for feature, importance in zip(feature_list, importances)]\n",
    "feature_importances=pd.DataFrame(feature_importances,columns=('features','importance'))\n",
    "feature_importances.sort_values(by=['importance'],ascending = [False],inplace=True)\n",
    "print(feature_importances)"
   ]
  },
  {
   "cell_type": "code",
   "execution_count": 34,
   "id": "7233cbf5",
   "metadata": {
    "executionInfo": {
     "elapsed": 3315,
     "status": "ok",
     "timestamp": 1689779569723,
     "user": {
      "displayName": "Yujian Cheng",
      "userId": "10364390466355316221"
     },
     "user_tz": -60
    },
    "id": "7233cbf5"
   },
   "outputs": [],
   "source": [
    "import tensorflow as tf"
   ]
  },
  {
   "cell_type": "code",
   "execution_count": 35,
   "id": "0673a30d",
   "metadata": {
    "colab": {
     "base_uri": "https://localhost:8080/",
     "height": 1000
    },
    "executionInfo": {
     "elapsed": 91816,
     "status": "ok",
     "timestamp": 1689779661538,
     "user": {
      "displayName": "Yujian Cheng",
      "userId": "10364390466355316221"
     },
     "user_tz": -60
    },
    "id": "0673a30d",
    "outputId": "8f78793c-2b41-4c7c-c430-a4c725be0026"
   },
   "outputs": [
    {
     "name": "stdout",
     "output_type": "stream",
     "text": [
      "Requirement already satisfied: keras in c:\\users\\zjmbz\\anaconda3\\lib\\site-packages (2.13.1)Note: you may need to restart the kernel to use updated packages.\n",
      "Requirement already satisfied: tensorflow in c:\\users\\zjmbz\\anaconda3\\lib\\site-packages (2.13.0)\n",
      "Requirement already satisfied: tensorflow-intel==2.13.0 in c:\\users\\zjmbz\\anaconda3\\lib\\site-packages (from tensorflow) (2.13.0)\n",
      "Requirement already satisfied: absl-py>=1.0.0 in c:\\users\\zjmbz\\anaconda3\\lib\\site-packages (from tensorflow-intel==2.13.0->tensorflow) (1.4.0)\n",
      "Requirement already satisfied: astunparse>=1.6.0 in c:\\users\\zjmbz\\anaconda3\\lib\\site-packages (from tensorflow-intel==2.13.0->tensorflow) (1.6.3)\n",
      "Requirement already satisfied: flatbuffers>=23.1.21 in c:\\users\\zjmbz\\anaconda3\\lib\\site-packages (from tensorflow-intel==2.13.0->tensorflow) (23.5.26)\n",
      "Requirement already satisfied: gast<=0.4.0,>=0.2.1 in c:\\users\\zjmbz\\anaconda3\\lib\\site-packages (from tensorflow-intel==2.13.0->tensorflow) (0.4.0)\n",
      "Requirement already satisfied: google-pasta>=0.1.1 in c:\\users\\zjmbz\\anaconda3\\lib\\site-packages (from tensorflow-intel==2.13.0->tensorflow) (0.2.0)\n",
      "Requirement already satisfied: h5py>=2.9.0 in c:\\users\\zjmbz\\anaconda3\\lib\\site-packages (from tensorflow-intel==2.13.0->tensorflow) (3.6.0)\n",
      "Requirement already satisfied: libclang>=13.0.0 in c:\\users\\zjmbz\\anaconda3\\lib\\site-packages (from tensorflow-intel==2.13.0->tensorflow) (16.0.6)\n",
      "Requirement already satisfied: numpy<=1.24.3,>=1.22 in c:\\users\\zjmbz\\anaconda3\\lib\\site-packages (from tensorflow-intel==2.13.0->tensorflow) (1.22.4)\n",
      "Requirement already satisfied: opt-einsum>=2.3.2 in c:\\users\\zjmbz\\anaconda3\\lib\\site-packages (from tensorflow-intel==2.13.0->tensorflow) (3.3.0)\n",
      "\n",
      "Requirement already satisfied: packaging in c:\\users\\zjmbz\\anaconda3\\lib\\site-packages (from tensorflow-intel==2.13.0->tensorflow) (23.1)\n",
      "Requirement already satisfied: protobuf!=4.21.0,!=4.21.1,!=4.21.2,!=4.21.3,!=4.21.4,!=4.21.5,<5.0.0dev,>=3.20.3 in c:\\users\\zjmbz\\anaconda3\\lib\\site-packages (from tensorflow-intel==2.13.0->tensorflow) (4.23.4)\n",
      "Requirement already satisfied: setuptools in c:\\users\\zjmbz\\anaconda3\\lib\\site-packages (from tensorflow-intel==2.13.0->tensorflow) (61.2.0)\n",
      "Requirement already satisfied: six>=1.12.0 in c:\\users\\zjmbz\\anaconda3\\lib\\site-packages (from tensorflow-intel==2.13.0->tensorflow) (1.16.0)\n",
      "Requirement already satisfied: termcolor>=1.1.0 in c:\\users\\zjmbz\\anaconda3\\lib\\site-packages (from tensorflow-intel==2.13.0->tensorflow) (2.3.0)\n",
      "Requirement already satisfied: typing-extensions<4.6.0,>=3.6.6 in c:\\users\\zjmbz\\anaconda3\\lib\\site-packages (from tensorflow-intel==2.13.0->tensorflow) (4.1.1)\n",
      "Requirement already satisfied: wrapt>=1.11.0 in c:\\users\\zjmbz\\anaconda3\\lib\\site-packages (from tensorflow-intel==2.13.0->tensorflow) (1.12.1)\n",
      "Requirement already satisfied: grpcio<2.0,>=1.24.3 in c:\\users\\zjmbz\\anaconda3\\lib\\site-packages (from tensorflow-intel==2.13.0->tensorflow) (1.56.0)\n",
      "Requirement already satisfied: tensorboard<2.14,>=2.13 in c:\\users\\zjmbz\\anaconda3\\lib\\site-packages (from tensorflow-intel==2.13.0->tensorflow) (2.13.0)\n",
      "Requirement already satisfied: tensorflow-estimator<2.14,>=2.13.0 in c:\\users\\zjmbz\\anaconda3\\lib\\site-packages (from tensorflow-intel==2.13.0->tensorflow) (2.13.0)\n",
      "Requirement already satisfied: tensorflow-io-gcs-filesystem>=0.23.1 in c:\\users\\zjmbz\\anaconda3\\lib\\site-packages (from tensorflow-intel==2.13.0->tensorflow) (0.31.0)\n",
      "Requirement already satisfied: wheel<1.0,>=0.23.0 in c:\\users\\zjmbz\\anaconda3\\lib\\site-packages (from astunparse>=1.6.0->tensorflow-intel==2.13.0->tensorflow) (0.37.1)\n",
      "Requirement already satisfied: google-auth<3,>=1.6.3 in c:\\users\\zjmbz\\anaconda3\\lib\\site-packages (from tensorboard<2.14,>=2.13->tensorflow-intel==2.13.0->tensorflow) (2.22.0)\n",
      "Requirement already satisfied: google-auth-oauthlib<1.1,>=0.5 in c:\\users\\zjmbz\\anaconda3\\lib\\site-packages (from tensorboard<2.14,>=2.13->tensorflow-intel==2.13.0->tensorflow) (1.0.0)\n",
      "Requirement already satisfied: markdown>=2.6.8 in c:\\users\\zjmbz\\anaconda3\\lib\\site-packages (from tensorboard<2.14,>=2.13->tensorflow-intel==2.13.0->tensorflow) (3.3.4)\n",
      "Requirement already satisfied: requests<3,>=2.21.0 in c:\\users\\zjmbz\\anaconda3\\lib\\site-packages (from tensorboard<2.14,>=2.13->tensorflow-intel==2.13.0->tensorflow) (2.27.1)\n",
      "Requirement already satisfied: tensorboard-data-server<0.8.0,>=0.7.0 in c:\\users\\zjmbz\\anaconda3\\lib\\site-packages (from tensorboard<2.14,>=2.13->tensorflow-intel==2.13.0->tensorflow) (0.7.1)\n",
      "Requirement already satisfied: werkzeug>=1.0.1 in c:\\users\\zjmbz\\anaconda3\\lib\\site-packages (from tensorboard<2.14,>=2.13->tensorflow-intel==2.13.0->tensorflow) (2.0.3)\n",
      "Requirement already satisfied: cachetools<6.0,>=2.0.0 in c:\\users\\zjmbz\\anaconda3\\lib\\site-packages (from google-auth<3,>=1.6.3->tensorboard<2.14,>=2.13->tensorflow-intel==2.13.0->tensorflow) (4.2.2)\n",
      "Requirement already satisfied: pyasn1-modules>=0.2.1 in c:\\users\\zjmbz\\anaconda3\\lib\\site-packages (from google-auth<3,>=1.6.3->tensorboard<2.14,>=2.13->tensorflow-intel==2.13.0->tensorflow) (0.2.8)\n",
      "Requirement already satisfied: rsa<5,>=3.1.4 in c:\\users\\zjmbz\\anaconda3\\lib\\site-packages (from google-auth<3,>=1.6.3->tensorboard<2.14,>=2.13->tensorflow-intel==2.13.0->tensorflow) (4.7.2)\n",
      "Requirement already satisfied: urllib3<2.0 in c:\\users\\zjmbz\\anaconda3\\lib\\site-packages (from google-auth<3,>=1.6.3->tensorboard<2.14,>=2.13->tensorflow-intel==2.13.0->tensorflow) (1.26.9)\n",
      "Requirement already satisfied: requests-oauthlib>=0.7.0 in c:\\users\\zjmbz\\anaconda3\\lib\\site-packages (from google-auth-oauthlib<1.1,>=0.5->tensorboard<2.14,>=2.13->tensorflow-intel==2.13.0->tensorflow) (1.3.1)\n",
      "Requirement already satisfied: certifi>=2017.4.17 in c:\\users\\zjmbz\\anaconda3\\lib\\site-packages (from requests<3,>=2.21.0->tensorboard<2.14,>=2.13->tensorflow-intel==2.13.0->tensorflow) (2023.5.7)\n",
      "Requirement already satisfied: charset-normalizer~=2.0.0 in c:\\users\\zjmbz\\anaconda3\\lib\\site-packages (from requests<3,>=2.21.0->tensorboard<2.14,>=2.13->tensorflow-intel==2.13.0->tensorflow) (2.0.4)\n",
      "Requirement already satisfied: idna<4,>=2.5 in c:\\users\\zjmbz\\anaconda3\\lib\\site-packages (from requests<3,>=2.21.0->tensorboard<2.14,>=2.13->tensorflow-intel==2.13.0->tensorflow) (3.3)\n",
      "Requirement already satisfied: pyasn1<0.5.0,>=0.4.6 in c:\\users\\zjmbz\\anaconda3\\lib\\site-packages (from pyasn1-modules>=0.2.1->google-auth<3,>=1.6.3->tensorboard<2.14,>=2.13->tensorflow-intel==2.13.0->tensorflow) (0.4.8)\n",
      "Requirement already satisfied: oauthlib>=3.0.0 in c:\\users\\zjmbz\\anaconda3\\lib\\site-packages (from requests-oauthlib>=0.7.0->google-auth-oauthlib<1.1,>=0.5->tensorboard<2.14,>=2.13->tensorflow-intel==2.13.0->tensorflow) (3.2.2)\n"
     ]
    }
   ],
   "source": [
    "pip install --upgrade keras tensorflow\n"
   ]
  },
  {
   "cell_type": "markdown",
   "id": "5f0e321e",
   "metadata": {
    "id": "5f0e321e"
   },
   "source": [
    "### 4.4 Netural Network"
   ]
  },
  {
   "cell_type": "code",
   "execution_count": 36,
   "id": "a0e41b49",
   "metadata": {
    "colab": {
     "base_uri": "https://localhost:8080/",
     "height": 401
    },
    "executionInfo": {
     "elapsed": 272,
     "status": "error",
     "timestamp": 1689779715741,
     "user": {
      "displayName": "Yujian Cheng",
      "userId": "10364390466355316221"
     },
     "user_tz": -60
    },
    "id": "a0e41b49",
    "outputId": "41e0a783-43b9-4b6a-aaab-5ffc59704d68",
    "scrolled": false
   },
   "outputs": [
    {
     "name": "stdout",
     "output_type": "stream",
     "text": [
      "(58096, 40)\n",
      "Epoch 1/10\n",
      "1816/1816 [==============================] - 16s 6ms/step - loss: 0.5338 - accuracy: 0.7739 - val_loss: 0.4335 - val_accuracy: 0.8032\n",
      "Epoch 2/10\n",
      "1816/1816 [==============================] - 10s 6ms/step - loss: 0.4451 - accuracy: 0.8015 - val_loss: 0.4218 - val_accuracy: 0.8080\n",
      "Epoch 3/10\n",
      "1816/1816 [==============================] - 13s 7ms/step - loss: 0.4333 - accuracy: 0.8090 - val_loss: 0.4097 - val_accuracy: 0.8191\n",
      "Epoch 4/10\n",
      "1816/1816 [==============================] - 12s 6ms/step - loss: 0.4235 - accuracy: 0.8122 - val_loss: 0.4093 - val_accuracy: 0.8197\n",
      "Epoch 5/10\n",
      "1816/1816 [==============================] - 11s 6ms/step - loss: 0.4193 - accuracy: 0.8127 - val_loss: 0.4025 - val_accuracy: 0.8213\n",
      "Epoch 6/10\n",
      "1816/1816 [==============================] - 14s 8ms/step - loss: 0.4188 - accuracy: 0.8148 - val_loss: 0.4092 - val_accuracy: 0.8243\n",
      "Epoch 7/10\n",
      "1816/1816 [==============================] - 12s 7ms/step - loss: 0.4197 - accuracy: 0.8165 - val_loss: 0.4011 - val_accuracy: 0.8226\n",
      "Epoch 8/10\n",
      "1816/1816 [==============================] - 11s 6ms/step - loss: 0.4142 - accuracy: 0.8186 - val_loss: 0.4047 - val_accuracy: 0.8205\n",
      "Epoch 9/10\n",
      "1816/1816 [==============================] - 14s 7ms/step - loss: 0.4155 - accuracy: 0.8168 - val_loss: 0.4262 - val_accuracy: 0.7904\n",
      "Epoch 10/10\n",
      "1816/1816 [==============================] - 11s 6ms/step - loss: 0.4096 - accuracy: 0.8188 - val_loss: 0.3951 - val_accuracy: 0.8295\n",
      "779/779 [==============================] - 3s 4ms/step - loss: 0.3951 - accuracy: 0.8295\n"
     ]
    }
   ],
   "source": [
    "import tensorflow as tf\n",
    "import pandas as pd\n",
    "from sklearn.model_selection import train_test_split\n",
    "from sklearn.preprocessing import StandardScaler\n",
    "from sklearn.pipeline import Pipeline\n",
    "from tensorflow import keras\n",
    "from tensorflow.keras.models import Sequential\n",
    "from tensorflow.keras.layers import Dense, Dropout\n",
    "\n",
    "# validation split\n",
    "X_train_prepared2, X_val, y_train2, y_val  = train_test_split(X_train_prepared, y_train, test_size=0.3, random_state=42)\n",
    "\n",
    "# Create a function that returns a compiled model\n",
    "def create_model():\n",
    "    model = Sequential()\n",
    "    model.add(Dense(100, activation='relu', input_shape=(40,)))\n",
    "    model.add(Dropout(0.18))\n",
    "    model.add(Dense(100, activation='relu'))\n",
    "    model.add(Dropout(0.15))\n",
    "    model.add(Dense(1))\n",
    "\n",
    "    # Compile the model\n",
    "    model.compile(optimizer='adam', loss='binary_crossentropy', metrics=['accuracy'])\n",
    "    return model\n",
    "\n",
    "if __name__ == \"__main__\":\n",
    "    model_hotel = create_model()\n",
    "    print(X_train_prepared2.shape)\n",
    "    history = model_hotel.fit(X_train_prepared2, y_train2,\n",
    "                   validation_data=(X_val,y_val),\n",
    "                   epochs = 10)\n",
    "    model_hotel.evaluate(X_val,y_val)"
   ]
  },
  {
   "cell_type": "markdown",
   "id": "9957892b",
   "metadata": {
    "id": "9957892b"
   },
   "source": [
    "### 4.5 Support Vector Machine"
   ]
  },
  {
   "cell_type": "code",
   "execution_count": 37,
   "id": "bbaaac53",
   "metadata": {
    "executionInfo": {
     "elapsed": 3,
     "status": "aborted",
     "timestamp": 1689779662308,
     "user": {
      "displayName": "Yujian Cheng",
      "userId": "10364390466355316221"
     },
     "user_tz": -60
    },
    "id": "bbaaac53"
   },
   "outputs": [
    {
     "name": "stdout",
     "output_type": "stream",
     "text": [
      "CPU times: total: 22min 29s\n",
      "Wall time: 24min 27s\n"
     ]
    }
   ],
   "source": [
    "svm = SVC()\n",
    "%time svm.fit(X_train_prepared, y_train)\n",
    "train_preds = svm.predict(X_train_prepared)"
   ]
  },
  {
   "cell_type": "code",
   "execution_count": 38,
   "id": "2fd2961a",
   "metadata": {
    "id": "2fd2961a"
   },
   "outputs": [
    {
     "name": "stdout",
     "output_type": "stream",
     "text": [
      "CPU times: total: 1h 18min 54s\n",
      "Wall time: 1h 33min 35s\n",
      "Mean:0.8199\n",
      "Standard deviation:0.0034\n"
     ]
    }
   ],
   "source": [
    "%time svm_scores = cross_val_score(svm, X_train_prepared,y_train, scoring=\"accuracy\", cv=5)\n",
    "\n",
    "def display_scores(scores):\n",
    "    print('Mean:%5.4f'%scores.mean())\n",
    "    print('Standard deviation:%5.4f'%scores.std())\n",
    "\n",
    "display_scores(svm_scores)"
   ]
  },
  {
   "cell_type": "markdown",
   "id": "c54dde93",
   "metadata": {},
   "source": [
    "#### Based on the mean of accuracy rate, we chose randomforest as our final model. In order to increase its accuracy rate, we used hyper-parameter to opitimise it. "
   ]
  },
  {
   "cell_type": "markdown",
   "id": "fe95aee9",
   "metadata": {
    "id": "fe95aee9"
   },
   "source": [
    "# 5 Hyper-parameter optimisation"
   ]
  },
  {
   "cell_type": "code",
   "execution_count": 39,
   "id": "29ea0a60",
   "metadata": {
    "id": "29ea0a60"
   },
   "outputs": [
    {
     "name": "stdout",
     "output_type": "stream",
     "text": [
      "CPU times: total: 11min 13s\n",
      "Wall time: 13min 30s\n"
     ]
    },
    {
     "data": {
      "text/plain": [
       "GridSearchCV(cv=3, estimator=RandomForestClassifier(random_state=42),\n",
       "             param_grid=[{'max_features': [2, 4, 6, 8],\n",
       "                          'n_estimators': [10, 50, 100]},\n",
       "                         {'bootstrap': [False], 'max_features': [2, 3, 4],\n",
       "                          'n_estimators': [3, 10]}],\n",
       "             return_train_score=True, scoring='accuracy')"
      ]
     },
     "execution_count": 39,
     "metadata": {},
     "output_type": "execute_result"
    }
   ],
   "source": [
    "param_grid = [\n",
    "    {'n_estimators': [10, 50, 100], 'max_features': [2, 4, 6, 8]},\n",
    "    {'bootstrap': [False], 'n_estimators': [3, 10], 'max_features': [2, 3, 4]},\n",
    "]\n",
    "\n",
    "forest = RandomForestClassifier(random_state=42)\n",
    "grid_search = GridSearchCV(forest, param_grid, cv=3,\n",
    "                           scoring='accuracy', return_train_score=True)\n",
    "%time grid_search.fit(X_train_prepared,y_train)"
   ]
  },
  {
   "cell_type": "code",
   "execution_count": 40,
   "id": "968c0167",
   "metadata": {
    "id": "968c0167"
   },
   "outputs": [
    {
     "name": "stdout",
     "output_type": "stream",
     "text": [
      "Fitting 5 folds for each of 216 candidates, totalling 1080 fits\n",
      "{'bootstrap': True, 'max_depth': 30, 'min_samples_leaf': 1, 'min_samples_split': 2, 'n_estimators': 200}\n"
     ]
    }
   ],
   "source": [
    "param_grid = {\n",
    "    'n_estimators': [50, 100, 200],\n",
    "    'max_depth': [None, 10, 20, 30],\n",
    "    'min_samples_split': [2, 5, 10],\n",
    "    'min_samples_leaf': [1, 2, 4],\n",
    "    'bootstrap': [True, False]\n",
    "}\n",
    "\n",
    "forest = RandomForestClassifier(random_state=42)\n",
    "\n",
    "grid_search = GridSearchCV(forest, param_grid, cv=5, scoring='accuracy', verbose=2, n_jobs=-1)\n",
    "grid_search.fit(X_train_prepared, y_train)\n",
    "\n",
    "print(grid_search.best_params_)\n",
    "\n",
    "best_forest = grid_search.best_estimator_"
   ]
  },
  {
   "cell_type": "markdown",
   "id": "5a87875d",
   "metadata": {
    "id": "5a87875d"
   },
   "source": [
    "# 6 Evaluation of the final model"
   ]
  },
  {
   "cell_type": "code",
   "execution_count": 44,
   "id": "386c09af",
   "metadata": {
    "id": "386c09af"
   },
   "outputs": [
    {
     "name": "stdout",
     "output_type": "stream",
     "text": [
      "Accuracy: 0.8633\n"
     ]
    }
   ],
   "source": [
    "final_model = best_forest\n",
    "\n",
    "\n",
    "X_test_prepared = full_pipeline.transform(X_test)\n",
    "final_predictions = final_model.predict(X_test_prepared)\n",
    "\n",
    "final_accuracy = accuracy_score(y_test, final_predictions)\n",
    "print('Accuracy: %5.4f' % final_accuracy)"
   ]
  },
  {
   "cell_type": "markdown",
   "id": "7544e1ae",
   "metadata": {
    "id": "7544e1ae"
   },
   "source": [
    "### 6.1 Confusion Matrix"
   ]
  },
  {
   "cell_type": "code",
   "execution_count": 45,
   "id": "1da432a0",
   "metadata": {
    "id": "1da432a0"
   },
   "outputs": [
    {
     "name": "stdout",
     "output_type": "stream",
     "text": [
      "Confusion Matrix:\n",
      "[[20613  1704]\n",
      " [ 3160 10093]]\n",
      "F1 Score: 0.8058283433133733\n",
      "Accuracy: 0.8632555524318246\n",
      "Precision: 0.8555564974145969\n",
      "Recall: 0.7615634196031087\n",
      "F1 Score: 0.8058283433133733\n"
     ]
    },
    {
     "data": {
      "image/png": "[encoded data removed]",
      "text/plain": [
       "<Figure size 432x288 with 2 Axes>"
      ]
     },
     "metadata": {
      "needs_background": "light"
     },
     "output_type": "display_data"
    }
   ],
   "source": [
    "# Compute and print the confusion matrix\n",
    "conf_mat = confusion_matrix(y_test, final_predictions)\n",
    "print(\"Confusion Matrix:\")\n",
    "print(conf_mat)\n",
    "\n",
    "# Re-import f1_score to solve type-error\n",
    "from sklearn.metrics import f1_score\n",
    "\n",
    "# calculate the f1_score again\n",
    "f1 = f1_score(y_test, final_predictions)\n",
    "print(f\"F1 Score: {f1}\")\n",
    "\n",
    "# Compute and print accuracy, precision, recall, f1 score\n",
    "accuracy = accuracy_score(y_test, final_predictions)\n",
    "precision = precision_score(y_test, final_predictions)\n",
    "recall = recall_score(y_test, final_predictions)\n",
    "f1 = f1_score(y_test, final_predictions)\n",
    "\n",
    "print(f\"Accuracy: {accuracy}\")\n",
    "print(f\"Precision: {precision}\")\n",
    "print(f\"Recall: {recall}\")\n",
    "print(f\"F1 Score: {f1}\")\n",
    "\n",
    "# Plot the confusion matrix\n",
    "conf_mat_normalized = conf_mat.astype('float') / conf_mat.sum(axis=1)[:, np.newaxis]\n",
    "labels = ['Not Canceled', 'Canceled']\n",
    "fig = plt.figure()\n",
    "ax = fig.add_subplot(111)\n",
    "cax = ax.matshow(conf_mat_normalized, cmap='Blues')\n",
    "plt.title('Normalized Confusion Matrix')\n",
    "plt.xlabel('Predicted Value')\n",
    "plt.ylabel('Actual Value')\n",
    "plt.xticks([0, 1], labels)\n",
    "plt.yticks([0, 1], labels)\n",
    "fig.colorbar(cax)\n",
    "\n",
    "# Add the actual numbers in the cells of the confusion matrix\n",
    "for (i, j), z in np.ndenumerate(conf_mat_normalized):\n",
    "    ax.text(j, i, '{:0.2f}'.format(z), ha='center', va='center')\n",
    "\n",
    "plt.show()"
   ]
  },
  {
   "cell_type": "markdown",
   "id": "6186b410",
   "metadata": {
    "id": "6186b410"
   },
   "source": [
    "### 6.2 ROC"
   ]
  },
  {
   "cell_type": "code",
   "execution_count": 43,
   "id": "fec04d5a",
   "metadata": {
    "id": "fec04d5a",
    "scrolled": false
   },
   "outputs": [
    {
     "data": {
      "image/png": "[encoded data removed]",
      "text/plain": [
       "<Figure size 432x288 with 1 Axes>"
      ]
     },
     "metadata": {
      "needs_background": "light"
     },
     "output_type": "display_data"
    }
   ],
   "source": [
    "from sklearn.metrics import roc_curve, auc\n",
    "\n",
    "# Get predicted probabilities instead of binary predictions\n",
    "y_scores = final_model.predict_proba(X_test_prepared)[:, 1]\n",
    "\n",
    "# Compute false positive rate, true positive rate, and thresholds\n",
    "fpr, tpr, thresholds = roc_curve(y_test, y_scores)\n",
    "\n",
    "# Compute AUC score\n",
    "roc_auc = auc(fpr, tpr)\n",
    "\n",
    "# Plot ROC curve\n",
    "plt.figure()\n",
    "plt.plot(fpr, tpr, color='darkorange', label='ROC curve (AUC = %0.2f)' % roc_auc)\n",
    "plt.plot([0, 1], [0, 1], color='navy', linestyle='--')\n",
    "plt.xlim([0.0, 1.0])\n",
    "plt.ylim([0.0, 1.05])\n",
    "plt.xlabel('False Positive Rate')\n",
    "plt.ylabel('True Positive Rate')\n",
    "plt.title('Receiver Operating Characteristic')\n",
    "plt.legend(loc=\"lower right\")\n",
    "plt.show()\n"
   ]
  }
 ],
 "metadata": {
  "colab": {
   "provenance": [],
   "toc_visible": true
  },
  "kernelspec": {
   "display_name": "Python 3 (ipykernel)",
   "language": "python",
   "name": "python3"
  },
  "language_info": {
   "codemirror_mode": {
    "name": "ipython",
    "version": 3
   },
   "file_extension": ".py",
   "mimetype": "text/x-python",
   "name": "python",
   "nbconvert_exporter": "python",
   "pygments_lexer": "ipython3",
   "version": "3.9.12"
  }
 },
 "nbformat": 4,
 "nbformat_minor": 5
}
